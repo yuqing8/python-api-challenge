{
 "cells": [
  {
   "cell_type": "code",
   "execution_count": 1,
   "id": "dd4b30da",
   "metadata": {
    "scrolled": true
   },
   "outputs": [
    {
     "data": {
      "text/html": [
       "<div>\n",
       "<style scoped>\n",
       "    .dataframe tbody tr th:only-of-type {\n",
       "        vertical-align: middle;\n",
       "    }\n",
       "\n",
       "    .dataframe tbody tr th {\n",
       "        vertical-align: top;\n",
       "    }\n",
       "\n",
       "    .dataframe thead th {\n",
       "        text-align: right;\n",
       "    }\n",
       "</style>\n",
       "<table border=\"1\" class=\"dataframe\">\n",
       "  <thead>\n",
       "    <tr style=\"text-align: right;\">\n",
       "      <th></th>\n",
       "      <th>City</th>\n",
       "      <th>Lat</th>\n",
       "      <th>Lng</th>\n",
       "      <th>Max Temp</th>\n",
       "      <th>Humidity</th>\n",
       "      <th>Cloudiness</th>\n",
       "      <th>Wind Speed</th>\n",
       "      <th>Country</th>\n",
       "      <th>Date</th>\n",
       "    </tr>\n",
       "  </thead>\n",
       "  <tbody>\n",
       "    <tr>\n",
       "      <th>0</th>\n",
       "      <td>la ronge</td>\n",
       "      <td>55.1001</td>\n",
       "      <td>-105.2842</td>\n",
       "      <td>56.53</td>\n",
       "      <td>75</td>\n",
       "      <td>91</td>\n",
       "      <td>6.93</td>\n",
       "      <td>CA</td>\n",
       "      <td>1627560656</td>\n",
       "    </tr>\n",
       "    <tr>\n",
       "      <th>1</th>\n",
       "      <td>puerto ayora</td>\n",
       "      <td>-0.7393</td>\n",
       "      <td>-90.3518</td>\n",
       "      <td>71.15</td>\n",
       "      <td>87</td>\n",
       "      <td>70</td>\n",
       "      <td>6.91</td>\n",
       "      <td>EC</td>\n",
       "      <td>1627560657</td>\n",
       "    </tr>\n",
       "    <tr>\n",
       "      <th>2</th>\n",
       "      <td>mayumba</td>\n",
       "      <td>-3.4320</td>\n",
       "      <td>10.6554</td>\n",
       "      <td>77.27</td>\n",
       "      <td>73</td>\n",
       "      <td>14</td>\n",
       "      <td>9.33</td>\n",
       "      <td>GA</td>\n",
       "      <td>1627560657</td>\n",
       "    </tr>\n",
       "    <tr>\n",
       "      <th>3</th>\n",
       "      <td>husavik</td>\n",
       "      <td>66.0449</td>\n",
       "      <td>-17.3389</td>\n",
       "      <td>49.73</td>\n",
       "      <td>96</td>\n",
       "      <td>100</td>\n",
       "      <td>3.04</td>\n",
       "      <td>IS</td>\n",
       "      <td>1627560658</td>\n",
       "    </tr>\n",
       "    <tr>\n",
       "      <th>4</th>\n",
       "      <td>avarua</td>\n",
       "      <td>-21.2078</td>\n",
       "      <td>-159.7750</td>\n",
       "      <td>69.85</td>\n",
       "      <td>88</td>\n",
       "      <td>85</td>\n",
       "      <td>3.44</td>\n",
       "      <td>CK</td>\n",
       "      <td>1627560659</td>\n",
       "    </tr>\n",
       "  </tbody>\n",
       "</table>\n",
       "</div>"
      ],
      "text/plain": [
       "           City      Lat       Lng  Max Temp  Humidity  Cloudiness  \\\n",
       "0      la ronge  55.1001 -105.2842     56.53        75          91   \n",
       "1  puerto ayora  -0.7393  -90.3518     71.15        87          70   \n",
       "2       mayumba  -3.4320   10.6554     77.27        73          14   \n",
       "3       husavik  66.0449  -17.3389     49.73        96         100   \n",
       "4        avarua -21.2078 -159.7750     69.85        88          85   \n",
       "\n",
       "   Wind Speed Country        Date  \n",
       "0        6.93      CA  1627560656  \n",
       "1        6.91      EC  1627560657  \n",
       "2        9.33      GA  1627560657  \n",
       "3        3.04      IS  1627560658  \n",
       "4        3.44      CK  1627560659  "
      ]
     },
     "execution_count": 1,
     "metadata": {},
     "output_type": "execute_result"
    }
   ],
   "source": [
    "import pandas as pd\n",
    "import numpy as np\n",
    "from api_keys import g_key\n",
    "import requests\n",
    "import gmaps\n",
    "import gmaps.datasets\n",
    "df_orig=pd.read_csv('WeatherPy_data')\n",
    "df=df_orig.drop(columns='Unnamed: 0')\n",
    "df.head()"
   ]
  },
  {
   "cell_type": "code",
   "execution_count": 2,
   "id": "adf7993b",
   "metadata": {},
   "outputs": [
    {
     "data": {
      "application/vnd.jupyter.widget-view+json": {
       "model_id": "ca5297f8b72a430dac657ee570845cd1",
       "version_major": 2,
       "version_minor": 0
      },
      "text/plain": [
       "Figure(layout=FigureLayout(height='420px'))"
      ]
     },
     "metadata": {},
     "output_type": "display_data"
    }
   ],
   "source": [
    "gmaps.configure(api_key=g_key)\n",
    "humidity=df[['Lat','Lng','Humidity']]\n",
    "\n",
    "locations=humidity[['Lat','Lng']]\n",
    "weights=humidity['Humidity']\n",
    "fig=gmaps.figure()\n",
    "fig.add_layer(gmaps.heatmap_layer(locations,weights=weights))\n",
    "fig"
   ]
  },
  {
   "cell_type": "code",
   "execution_count": 3,
   "id": "74d873fb",
   "metadata": {},
   "outputs": [],
   "source": [
    "conditions=((df['Max Temp']>68)&(df['Max Temp']<78)&(df['Humidity']<70)&(df['Humidity']>55)&(df['Cloudiness']>20)&(df['Cloudiness']<45))\n",
    "df_vacation=df[conditions]"
   ]
  },
  {
   "cell_type": "code",
   "execution_count": 19,
   "id": "c7857991",
   "metadata": {},
   "outputs": [],
   "source": [
    "params = {\n",
    "    \"radius\": 5000,\n",
    "    \"types\": \"hotel\",\n",
    "    \"keyword\": \"hotel\",\n",
    "    \"key\": g_key\n",
    "}\n",
    "hotel_lat=[]\n",
    "hotel_lng=[]\n",
    "\n",
    "hotel_not_found=[]\n",
    "for index,row in df_vacation.iterrows():\n",
    "    lat=row['Lat']\n",
    "    lng=row['Lng']\n",
    "    params['location']=f\"{lat},{lng}\"  \n",
    "    base_url=\"https://maps.googleapis.com/maps/api/place/nearbysearch/json\"\n",
    "    response=requests.get(base_url,params=params).json()\n",
    "    try:\n",
    "        x_lat=response['results'][0]['geometry']['location']['lat']\n",
    "        x_lng=response['results'][0]['geometry']['location']['lng']\n",
    "        hotel_lat.append(x_lat)\n",
    "        hotel_lng.append(x_lng)\n",
    "    except:\n",
    "        hotel_not_found.append('')\n"
   ]
  },
  {
   "cell_type": "code",
   "execution_count": 20,
   "id": "1765ba1d",
   "metadata": {},
   "outputs": [
    {
     "data": {
      "text/plain": [
       "[57.47125659999999,\n",
       " 13.83541,\n",
       " 90.1034313,\n",
       " -104.6938074,\n",
       " 57.70664069999999,\n",
       " 86.59512509999999]"
      ]
     },
     "execution_count": 20,
     "metadata": {},
     "output_type": "execute_result"
    }
   ],
   "source": [
    "hotel_lng"
   ]
  },
  {
   "cell_type": "code",
   "execution_count": 8,
   "id": "d356d84f",
   "metadata": {},
   "outputs": [
    {
     "data": {
      "text/plain": [
       "[-20.5122835, -9.8040123, -9.8040123]"
      ]
     },
     "execution_count": 8,
     "metadata": {},
     "output_type": "execute_result"
    }
   ],
   "source": [
    "base_url=\"https://maps.googleapis.com/maps/api/place/nearbysearch/json\"\n",
    "params = {\n",
    "    \"radius\": 5000,\n",
    "    \"types\": \"hotel\",\n",
    "    \"keyword\": \"hotel\",\n",
    "    \"key\": g_key,\n",
    "    \"location\":\"-9.8000,-139.0333\"\n",
    "}\n",
    "response=requests.get(base_url,params=params).json()\n",
    "x=response['results'][0]['geometry']['location']['lat']\n",
    "hotel_lat.append(x)\n",
    "hotel_lat"
   ]
  }
 ],
 "metadata": {
  "kernelspec": {
   "display_name": "Python 3",
   "language": "python",
   "name": "python3"
  },
  "language_info": {
   "codemirror_mode": {
    "name": "ipython",
    "version": 3
   },
   "file_extension": ".py",
   "mimetype": "text/x-python",
   "name": "python",
   "nbconvert_exporter": "python",
   "pygments_lexer": "ipython3",
   "version": "3.8.8"
  }
 },
 "nbformat": 4,
 "nbformat_minor": 5
}
